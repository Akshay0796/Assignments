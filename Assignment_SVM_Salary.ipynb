{
  "nbformat": 4,
  "nbformat_minor": 0,
  "metadata": {
    "colab": {
      "name": "Assignment SVM Salary.ipynb",
      "provenance": [],
      "collapsed_sections": [],
      "authorship_tag": "ABX9TyNognXcTGZZCPVl2hy1eeb/",
      "include_colab_link": true
    },
    "kernelspec": {
      "name": "python3",
      "display_name": "Python 3"
    },
    "language_info": {
      "name": "python"
    }
  },
  "cells": [
    {
      "cell_type": "markdown",
      "metadata": {
        "id": "view-in-github",
        "colab_type": "text"
      },
      "source": [
        "<a href=\"https://colab.research.google.com/github/Akshay0796/Assignments/blob/main/Assignment_SVM_Salary.ipynb\" target=\"_parent\"><img src=\"https://colab.research.google.com/assets/colab-badge.svg\" alt=\"Open In Colab\"/></a>"
      ]
    },
    {
      "cell_type": "markdown",
      "metadata": {
        "id": "4wpr19s_DOj8"
      },
      "source": [
        "Prepare a classification model using SVM for salary data "
      ]
    },
    {
      "cell_type": "code",
      "metadata": {
        "id": "M3dYjxD4CBNk"
      },
      "source": [
        "import pandas as pd\n",
        "import numpy as np\n",
        "from sklearn import svm\n",
        "from sklearn.svm import SVC\n",
        "from sklearn import preprocessing"
      ],
      "execution_count": 2,
      "outputs": []
    },
    {
      "cell_type": "code",
      "metadata": {
        "id": "eMyOM9SMEi1J"
      },
      "source": [
        "sal_train=pd.read_csv('/content/SalaryData_Train(1).csv')"
      ],
      "execution_count": 3,
      "outputs": []
    },
    {
      "cell_type": "code",
      "metadata": {
        "id": "hDTooZmfEpiI"
      },
      "source": [
        "sal_test=pd.read_csv('/content/SalaryData_Test(1).csv')"
      ],
      "execution_count": 4,
      "outputs": []
    },
    {
      "cell_type": "code",
      "metadata": {
        "colab": {
          "base_uri": "https://localhost:8080/"
        },
        "id": "bNVP_icZE1z4",
        "outputId": "3aa7f941-1dba-4f3e-d96d-eadab68c7e14"
      },
      "source": [
        "sal_train.columns"
      ],
      "execution_count": 4,
      "outputs": [
        {
          "output_type": "execute_result",
          "data": {
            "text/plain": [
              "Index(['age', 'workclass', 'education', 'educationno', 'maritalstatus',\n",
              "       'occupation', 'relationship', 'race', 'sex', 'capitalgain',\n",
              "       'capitalloss', 'hoursperweek', 'native', 'Salary'],\n",
              "      dtype='object')"
            ]
          },
          "metadata": {
            "tags": []
          },
          "execution_count": 4
        }
      ]
    },
    {
      "cell_type": "code",
      "metadata": {
        "id": "b7qq4Yf5E9eP"
      },
      "source": [
        "string_col=['workclass','education','maritalstatus','occupation','relationship','race','sex','native']"
      ],
      "execution_count": 5,
      "outputs": []
    },
    {
      "cell_type": "code",
      "metadata": {
        "id": "yFiOwgnzE-zY"
      },
      "source": [
        "label_encoder=preprocessing.LabelEncoder()\n",
        "for i in string_col:\n",
        "    sal_train[i]=label_encoder.fit_transform(sal_train[i])\n",
        "    sal_test[i]=label_encoder.fit_transform(sal_test[i])"
      ],
      "execution_count": 6,
      "outputs": []
    },
    {
      "cell_type": "code",
      "metadata": {
        "colab": {
          "base_uri": "https://localhost:8080/"
        },
        "id": "coVeIUIcFfOg",
        "outputId": "8d80d780-66e7-4162-cae8-928e2680d47b"
      },
      "source": [
        "sal_train.shape"
      ],
      "execution_count": 7,
      "outputs": [
        {
          "output_type": "execute_result",
          "data": {
            "text/plain": [
              "(30161, 14)"
            ]
          },
          "metadata": {
            "tags": []
          },
          "execution_count": 7
        }
      ]
    },
    {
      "cell_type": "code",
      "metadata": {
        "id": "8WOex4qwFPIf"
      },
      "source": [
        "X_train = sal_train.iloc[0:500,0:13]\n",
        "Y_train=sal_train.iloc[0:500,-1]"
      ],
      "execution_count": 8,
      "outputs": []
    },
    {
      "cell_type": "code",
      "metadata": {
        "id": "SocSp33VFl9A"
      },
      "source": [
        "X_test= sal_test.iloc[0:300,0:13]\n",
        "Y_test=sal_test.iloc[0:300,-1]"
      ],
      "execution_count": 9,
      "outputs": []
    },
    {
      "cell_type": "code",
      "metadata": {
        "id": "QvHMt6UIJea-"
      },
      "source": [
        "#SVM Classification using kernels: linear,poly,rbf"
      ],
      "execution_count": 10,
      "outputs": []
    },
    {
      "cell_type": "code",
      "metadata": {
        "id": "RuTLy-JBJfcu"
      },
      "source": [
        "#kernel=linear\n",
        "model_linear=SVC(kernel='linear')\n",
        "model_linear.fit(X_train,Y_train)\n",
        "train_pred_lin=model_linear.predict(X_train)\n",
        "test_pred_lin=model_linear.predict(X_test)\n",
        "train_lin_acc=np.mean(train_pred_lin==Y_train)\n",
        "test_lin_acc=np.mean(test_pred_lin==Y_test)"
      ],
      "execution_count": 11,
      "outputs": []
    },
    {
      "cell_type": "code",
      "metadata": {
        "colab": {
          "base_uri": "https://localhost:8080/"
        },
        "id": "05mlZyjVJzoh",
        "outputId": "49ad0b27-9a06-4f83-f39d-77446de97ecb"
      },
      "source": [
        "train_lin_acc"
      ],
      "execution_count": 12,
      "outputs": [
        {
          "output_type": "execute_result",
          "data": {
            "text/plain": [
              "0.818"
            ]
          },
          "metadata": {
            "tags": []
          },
          "execution_count": 12
        }
      ]
    },
    {
      "cell_type": "code",
      "metadata": {
        "colab": {
          "base_uri": "https://localhost:8080/"
        },
        "id": "Nvv3EmPGJ2BO",
        "outputId": "9d47c455-e5e7-43a2-ba88-39bc45dab495"
      },
      "source": [
        "test_lin_acc"
      ],
      "execution_count": 13,
      "outputs": [
        {
          "output_type": "execute_result",
          "data": {
            "text/plain": [
              "0.8166666666666667"
            ]
          },
          "metadata": {
            "tags": []
          },
          "execution_count": 13
        }
      ]
    },
    {
      "cell_type": "code",
      "metadata": {
        "id": "-RhADCg1MrLO"
      },
      "source": [
        "#kernel=poly\n",
        "model_poly=SVC(kernel='poly')\n",
        "model_poly.fit(X_train,Y_train)\n",
        "train_pred_poly=model_poly.predict(X_train)\n",
        "test_pred_poly=model_poly.predict(X_test)\n",
        "train_poly_acc=np.mean(train_pred_poly==Y_train)\n",
        "test_poly_acc=np.mean(test_pred_poly==Y_test)"
      ],
      "execution_count": 14,
      "outputs": []
    },
    {
      "cell_type": "code",
      "metadata": {
        "colab": {
          "base_uri": "https://localhost:8080/"
        },
        "id": "2ANILE4sM7OC",
        "outputId": "a4b0db2e-f4d3-4e71-a542-bc198975acf6"
      },
      "source": [
        "train_poly_acc"
      ],
      "execution_count": 15,
      "outputs": [
        {
          "output_type": "execute_result",
          "data": {
            "text/plain": [
              "0.812"
            ]
          },
          "metadata": {
            "tags": []
          },
          "execution_count": 15
        }
      ]
    },
    {
      "cell_type": "code",
      "metadata": {
        "colab": {
          "base_uri": "https://localhost:8080/"
        },
        "id": "MBbWGCZLM90y",
        "outputId": "6f4bd947-b2ac-447c-d2cc-49bf3bc07c9e"
      },
      "source": [
        "test_poly_acc"
      ],
      "execution_count": 16,
      "outputs": [
        {
          "output_type": "execute_result",
          "data": {
            "text/plain": [
              "0.8033333333333333"
            ]
          },
          "metadata": {
            "tags": []
          },
          "execution_count": 16
        }
      ]
    },
    {
      "cell_type": "code",
      "metadata": {
        "id": "7xEv7ALGM_ii"
      },
      "source": [
        "#kernel=rbf\n",
        "model_rbf=SVC(kernel='rbf')\n",
        "model_rbf.fit(X_train,Y_train)\n",
        "train_pred_rbf=model_rbf.predict(X_train)\n",
        "test_pred_rbf=model_rbf.predict(X_test)\n",
        "train_rbf_acc=np.mean(train_pred_rbf==Y_train)\n",
        "test_rbf_acc=np.mean(test_pred_rbf==Y_test)"
      ],
      "execution_count": 20,
      "outputs": []
    },
    {
      "cell_type": "code",
      "metadata": {
        "colab": {
          "base_uri": "https://localhost:8080/"
        },
        "id": "xVJ48hmTNSNS",
        "outputId": "ddcfef14-d1a0-46a7-8410-80767ceef42c"
      },
      "source": [
        "train_rbf_acc"
      ],
      "execution_count": 21,
      "outputs": [
        {
          "output_type": "execute_result",
          "data": {
            "text/plain": [
              "0.812"
            ]
          },
          "metadata": {
            "tags": []
          },
          "execution_count": 21
        }
      ]
    },
    {
      "cell_type": "code",
      "metadata": {
        "colab": {
          "base_uri": "https://localhost:8080/"
        },
        "id": "9TghCFViNUnC",
        "outputId": "d499638e-19e2-4b5b-d678-379d918d8994"
      },
      "source": [
        "test_rbf_acc"
      ],
      "execution_count": 22,
      "outputs": [
        {
          "output_type": "execute_result",
          "data": {
            "text/plain": [
              "0.8033333333333333"
            ]
          },
          "metadata": {
            "tags": []
          },
          "execution_count": 22
        }
      ]
    }
  ]
}